{
 "cells": [
  {
   "cell_type": "code",
   "execution_count": 194,
   "metadata": {},
   "outputs": [],
   "source": [
    "import os\n",
    "import pandas as pd\n",
    "import numpy as np\n",
    "import sqlalchemy as sa\n",
    "from urllib.parse import quote\n",
    "import datetime\n",
    "import seaborn as sns\n",
    "from datetime import datetime, timedelta\n",
    "import datetime\n",
    "import matplotlib.pyplot as plt\n",
    "\n",
    "import statsmodels.api as sm\n",
    "from pylab import rcParams\n",
    "\n",
    "import warnings; \n",
    "warnings.filterwarnings(\"ignore\")"
   ]
  },
  {
   "cell_type": "code",
   "execution_count": 92,
   "metadata": {},
   "outputs": [
    {
     "name": "stdout",
     "output_type": "stream",
     "text": [
      "current times: 2024-08-04 20:58:35\n"
     ]
    }
   ],
   "source": [
    "cur_time = datetime.datetime.now().strftime('%Y-%m-%d %H:%M:%S')\n",
    "print(\"current times:\", cur_time)"
   ]
  },
  {
   "cell_type": "code",
   "execution_count": 94,
   "metadata": {},
   "outputs": [
    {
     "name": "stdout",
     "output_type": "stream",
     "text": [
      "              date   time  temp source_file\n",
      "0       2018-01-01  00:00  25.7    BUKT.csv\n",
      "1       2018-01-01  01:00  25.7    BUKT.csv\n",
      "2       2018-01-01  02:00  25.5    BUKT.csv\n",
      "3       2018-01-01  03:00  25.1    BUKT.csv\n",
      "4       2018-01-01  04:00  25.1    BUKT.csv\n",
      "...            ...    ...   ...         ...\n",
      "631003  2023-12-31  19:00  25.2  STH026.csv\n",
      "631004  2023-12-31  20:00    24  STH026.csv\n",
      "631005  2023-12-31  21:00  23.3  STH026.csv\n",
      "631006  2023-12-31  22:00  22.9  STH026.csv\n",
      "631007  2023-12-31  23:00  22.7  STH026.csv\n",
      "\n",
      "[631008 rows x 4 columns]\n"
     ]
    }
   ],
   "source": [
    "# Specify the directory containing the CSV files\n",
    "directory = r'data/temp/'  # Use raw string to handle backslashes\n",
    "# amp = [\n",
    "#     'BUKT.csv',\n",
    "#     'CIHO.csv',\n",
    "#     'SAY001.csv',\n",
    "#     'SAY002.csv',\n",
    "#     'STH005.csv',\n",
    "#     'STH007.csv',\n",
    "#     'STH010.csv',\n",
    "#     'STH011.csv',\n",
    "#     'STH013.csv',\n",
    "#     'STH014.csv',\n",
    "#     'STH019.csv',\n",
    "#     'STH021.csv',\n",
    "#     'STH022.csv',\n",
    "#     'STH023.csv',\n",
    "#     'STH025.csv',\n",
    "#     'STH026.csv'\n",
    "# ]\n",
    "amp = [\n",
    "    'BUKT.csv',\n",
    "    'STH005.csv',\n",
    "    'STH007.csv',\n",
    "    'STH010.csv',\n",
    "    'STH011.csv',\n",
    "    'STH014.csv',\n",
    "    'STH019.csv',\n",
    "    'STH021.csv',\n",
    "    'STH022.csv',\n",
    "    'STH023.csv',\n",
    "    'STH025.csv',\n",
    "    'STH026.csv'\n",
    "]\n",
    "# Read each CSV file into a DataFrame, add a new column, and store them in a list\n",
    "dataframes = []\n",
    "for dirpath, _, filenames in os.walk(directory):\n",
    "    for file in filenames:\n",
    "        if file.endswith('.csv'):\n",
    "            if file in amp:\n",
    "                # print(file)\n",
    "                file_path = os.path.join(dirpath, file)\n",
    "                try:\n",
    "                    df = pd.read_csv(file_path)\n",
    "                    # df['source_file'] = os.path.relpath(file_path, directory)  # Add a new column with the relative file path\n",
    "                    df['source_file'] = file\n",
    "                    dataframes.append(df)\n",
    "                except FileNotFoundError:\n",
    "                    print(f\"File not found: {file_path}\")\n",
    "                except pd.errors.EmptyDataError:\n",
    "                    print(f\"File is empty: {file_path}\")\n",
    "                except Exception as e:\n",
    "                    print(f\"Error reading {file_path}: {e}\")\n",
    "\n",
    "# Optionally, concatenate all DataFrames into a single DataFrame\n",
    "if dataframes:\n",
    "    all_data = pd.concat(dataframes, ignore_index=True)\n",
    "    # Now 'all_data' contains all the data from the CSV files with an additional column 'source_file'\n",
    "    print(all_data)\n",
    "else:\n",
    "    print(\"No dataframes to concatenate.\")"
   ]
  },
  {
   "cell_type": "code",
   "execution_count": 152,
   "metadata": {},
   "outputs": [],
   "source": [
    "temp = pd.DataFrame(all_data)"
   ]
  },
  {
   "cell_type": "code",
   "execution_count": 153,
   "metadata": {},
   "outputs": [
    {
     "name": "stdout",
     "output_type": "stream",
     "text": [
      "<class 'pandas.core.frame.DataFrame'>\n",
      "RangeIndex: 631008 entries, 0 to 631007\n",
      "Data columns (total 4 columns):\n",
      " #   Column       Non-Null Count   Dtype \n",
      "---  ------       --------------   ----- \n",
      " 0   date         631008 non-null  object\n",
      " 1   time         631008 non-null  object\n",
      " 2   temp         631008 non-null  object\n",
      " 3   source_file  631008 non-null  object\n",
      "dtypes: object(4)\n",
      "memory usage: 19.3+ MB\n"
     ]
    }
   ],
   "source": [
    "temp.info()"
   ]
  },
  {
   "cell_type": "code",
   "execution_count": 84,
   "metadata": {},
   "outputs": [],
   "source": [
    "# from datetime import datetime\n",
    "def calculate_week_number(str_date):\n",
    "    # Start of the custom week 1\n",
    "    # str_date = datetime.strptime(str_date, format).date()\n",
    "    start_of_week_1 = pd.Timestamp(year=str_date.year, month=1, day=7)\n",
    "    # print(start_of_week_1)\n",
    "    # if str_date < start_of_week_1:\n",
    "    #     start_date = datetime.date(str_date.year, 1, 7)\n",
    "    if str_date < start_of_week_1:\n",
    "        return 52  # For dates before the start of week 1\n",
    "    return ((str_date - start_of_week_1).days // 7) + 1"
   ]
  },
  {
   "cell_type": "code",
   "execution_count": 154,
   "metadata": {},
   "outputs": [],
   "source": [
    "# Strip any leading/trailing whitespace from the date strings\n",
    "temp['date'] = temp['date'].str.strip()\n",
    "# temp['date'] = datetime.strptime(temp['date'], '%Y-%m-%d')\n",
    "# Convert 'DATESICK' column to datetime\n",
    "temp['date'] = pd.to_datetime(temp['date'], format='%Y-%m-%d')"
   ]
  },
  {
   "cell_type": "code",
   "execution_count": 98,
   "metadata": {},
   "outputs": [
    {
     "name": "stdout",
     "output_type": "stream",
     "text": [
      "<class 'pandas.core.frame.DataFrame'>\n",
      "RangeIndex: 631008 entries, 0 to 631007\n",
      "Data columns (total 4 columns):\n",
      " #   Column       Non-Null Count   Dtype         \n",
      "---  ------       --------------   -----         \n",
      " 0   date         631008 non-null  datetime64[ns]\n",
      " 1   time         631008 non-null  object        \n",
      " 2   temp         631008 non-null  object        \n",
      " 3   source_file  631008 non-null  object        \n",
      "dtypes: datetime64[ns](1), object(3)\n",
      "memory usage: 19.3+ MB\n"
     ]
    }
   ],
   "source": [
    "temp.info()"
   ]
  },
  {
   "cell_type": "code",
   "execution_count": 88,
   "metadata": {},
   "outputs": [],
   "source": [
    "# Apply the function to get the week number\n",
    "temp['week_number'] = temp['date'].apply(calculate_week_number)"
   ]
  },
  {
   "cell_type": "code",
   "execution_count": 33,
   "metadata": {},
   "outputs": [
    {
     "data": {
      "text/html": [
       "<div>\n",
       "<style scoped>\n",
       "    .dataframe tbody tr th:only-of-type {\n",
       "        vertical-align: middle;\n",
       "    }\n",
       "\n",
       "    .dataframe tbody tr th {\n",
       "        vertical-align: top;\n",
       "    }\n",
       "\n",
       "    .dataframe thead th {\n",
       "        text-align: right;\n",
       "    }\n",
       "</style>\n",
       "<table border=\"1\" class=\"dataframe\">\n",
       "  <thead>\n",
       "    <tr style=\"text-align: right;\">\n",
       "      <th></th>\n",
       "      <th>date</th>\n",
       "      <th>time</th>\n",
       "      <th>temp</th>\n",
       "      <th>source_file</th>\n",
       "    </tr>\n",
       "  </thead>\n",
       "  <tbody>\n",
       "    <tr>\n",
       "      <th>631003</th>\n",
       "      <td>2023-12-31</td>\n",
       "      <td>19:00</td>\n",
       "      <td>25.2</td>\n",
       "      <td>STH026.csv</td>\n",
       "    </tr>\n",
       "    <tr>\n",
       "      <th>631004</th>\n",
       "      <td>2023-12-31</td>\n",
       "      <td>20:00</td>\n",
       "      <td>24</td>\n",
       "      <td>STH026.csv</td>\n",
       "    </tr>\n",
       "    <tr>\n",
       "      <th>631005</th>\n",
       "      <td>2023-12-31</td>\n",
       "      <td>21:00</td>\n",
       "      <td>23.3</td>\n",
       "      <td>STH026.csv</td>\n",
       "    </tr>\n",
       "    <tr>\n",
       "      <th>631006</th>\n",
       "      <td>2023-12-31</td>\n",
       "      <td>22:00</td>\n",
       "      <td>22.9</td>\n",
       "      <td>STH026.csv</td>\n",
       "    </tr>\n",
       "    <tr>\n",
       "      <th>631007</th>\n",
       "      <td>2023-12-31</td>\n",
       "      <td>23:00</td>\n",
       "      <td>22.7</td>\n",
       "      <td>STH026.csv</td>\n",
       "    </tr>\n",
       "  </tbody>\n",
       "</table>\n",
       "</div>"
      ],
      "text/plain": [
       "             date   time  temp source_file\n",
       "631003 2023-12-31  19:00  25.2  STH026.csv\n",
       "631004 2023-12-31  20:00    24  STH026.csv\n",
       "631005 2023-12-31  21:00  23.3  STH026.csv\n",
       "631006 2023-12-31  22:00  22.9  STH026.csv\n",
       "631007 2023-12-31  23:00  22.7  STH026.csv"
      ]
     },
     "execution_count": 33,
     "metadata": {},
     "output_type": "execute_result"
    }
   ],
   "source": [
    "temp.tail()"
   ]
  },
  {
   "cell_type": "code",
   "execution_count": 155,
   "metadata": {},
   "outputs": [],
   "source": [
    "# Replace -999.0 with NaN\n",
    "temp['temp'] = temp['temp'].replace(-999.0, np.nan)"
   ]
  },
  {
   "cell_type": "code",
   "execution_count": 156,
   "metadata": {},
   "outputs": [],
   "source": [
    "# Convert 'temp' column to numeric, coercing errors to NaN\n",
    "temp['temp'] = pd.to_numeric(temp['temp'], errors='coerce')"
   ]
  },
  {
   "cell_type": "markdown",
   "metadata": {},
   "source": [
    "หาค่าเฉลี่ยของวัน"
   ]
  },
  {
   "cell_type": "code",
   "execution_count": 12,
   "metadata": {},
   "outputs": [
    {
     "name": "stdout",
     "output_type": "stream",
     "text": [
      "<class 'pandas.core.frame.DataFrame'>\n",
      "RangeIndex: 631008 entries, 0 to 631007\n",
      "Data columns (total 4 columns):\n",
      " #   Column       Non-Null Count   Dtype         \n",
      "---  ------       --------------   -----         \n",
      " 0   date         631008 non-null  datetime64[ns]\n",
      " 1   time         631008 non-null  object        \n",
      " 2   temp         476232 non-null  float64       \n",
      " 3   source_file  631008 non-null  object        \n",
      "dtypes: datetime64[ns](1), float64(1), object(2)\n",
      "memory usage: 19.3+ MB\n"
     ]
    }
   ],
   "source": [
    "temp.info()"
   ]
  },
  {
   "cell_type": "code",
   "execution_count": 157,
   "metadata": {},
   "outputs": [],
   "source": [
    "temp.drop(['time'], axis=1, inplace=True)"
   ]
  },
  {
   "cell_type": "code",
   "execution_count": 158,
   "metadata": {},
   "outputs": [
    {
     "name": "stdout",
     "output_type": "stream",
     "text": [
      "<class 'pandas.core.frame.DataFrame'>\n",
      "RangeIndex: 631008 entries, 0 to 631007\n",
      "Data columns (total 3 columns):\n",
      " #   Column       Non-Null Count   Dtype         \n",
      "---  ------       --------------   -----         \n",
      " 0   date         631008 non-null  datetime64[ns]\n",
      " 1   temp         483438 non-null  float64       \n",
      " 2   source_file  631008 non-null  object        \n",
      "dtypes: datetime64[ns](1), float64(1), object(1)\n",
      "memory usage: 14.4+ MB\n"
     ]
    }
   ],
   "source": [
    "temp.info()"
   ]
  },
  {
   "cell_type": "code",
   "execution_count": 159,
   "metadata": {},
   "outputs": [
    {
     "name": "stdout",
     "output_type": "stream",
     "text": [
      "Series has date                0\n",
      "temp           147570\n",
      "source_file         0\n",
      "dtype: int64 missing values\n"
     ]
    }
   ],
   "source": [
    "print('Series has {} missing values'.format(temp.isna().sum()))\n",
    "date_missed = temp[temp.isna()].index"
   ]
  },
  {
   "cell_type": "code",
   "execution_count": 160,
   "metadata": {},
   "outputs": [
    {
     "name": "stdout",
     "output_type": "stream",
     "text": [
      "<class 'pandas.core.frame.DataFrame'>\n",
      "RangeIndex: 631008 entries, 0 to 631007\n",
      "Data columns (total 3 columns):\n",
      " #   Column       Non-Null Count   Dtype         \n",
      "---  ------       --------------   -----         \n",
      " 0   date         631008 non-null  datetime64[ns]\n",
      " 1   temp         483438 non-null  float64       \n",
      " 2   source_file  631008 non-null  object        \n",
      "dtypes: datetime64[ns](1), float64(1), object(1)\n",
      "memory usage: 14.4+ MB\n"
     ]
    }
   ],
   "source": [
    "temp.info()"
   ]
  },
  {
   "cell_type": "code",
   "execution_count": 161,
   "metadata": {},
   "outputs": [],
   "source": [
    "# Group by the relevant column(s), ensure that 'date' is part of the index\n",
    "\n",
    "temp.set_index(['source_file', 'date'], inplace=True)"
   ]
  },
  {
   "cell_type": "code",
   "execution_count": 163,
   "metadata": {},
   "outputs": [],
   "source": [
    "# Resetting just the date index to work with it directly\n",
    "df_resampled = temp.groupby(level='source_file').apply(\n",
    "    lambda x: x.droplevel('source_file').resample('W-mon').mean().interpolate(method='linear')\n",
    ")\n",
    "\n",
    "# Reassigning the group level back to the resampled data\n",
    "# df_resampled['source_file'] = df_resampled.index.get_level_values(0)\n",
    "# df_resampled.set_index(['source_file', df_resampled.index], inplace=True)"
   ]
  },
  {
   "cell_type": "code",
   "execution_count": 164,
   "metadata": {},
   "outputs": [],
   "source": [
    "# Optional: Reset the index if needed\n",
    "df_resampled = df_resampled.reset_index()"
   ]
  },
  {
   "cell_type": "code",
   "execution_count": 165,
   "metadata": {},
   "outputs": [
    {
     "name": "stdout",
     "output_type": "stream",
     "text": [
      "<class 'pandas.core.frame.DataFrame'>\n",
      "RangeIndex: 3768 entries, 0 to 3767\n",
      "Data columns (total 3 columns):\n",
      " #   Column       Non-Null Count  Dtype         \n",
      "---  ------       --------------  -----         \n",
      " 0   source_file  3768 non-null   object        \n",
      " 1   date         3768 non-null   datetime64[ns]\n",
      " 2   temp         3596 non-null   float64       \n",
      "dtypes: datetime64[ns](1), float64(1), object(1)\n",
      "memory usage: 88.4+ KB\n"
     ]
    }
   ],
   "source": [
    "df_resampled.info()"
   ]
  },
  {
   "cell_type": "code",
   "execution_count": 166,
   "metadata": {},
   "outputs": [
    {
     "name": "stdout",
     "output_type": "stream",
     "text": [
      "Series has source_file      0\n",
      "date             0\n",
      "temp           172\n",
      "dtype: int64 missing values\n"
     ]
    }
   ],
   "source": [
    "print('Series has {} missing values'.format(df_resampled.isna().sum()))\n",
    "date_missed = df_resampled[df_resampled.isna()].index"
   ]
  },
  {
   "cell_type": "code",
   "execution_count": 172,
   "metadata": {},
   "outputs": [],
   "source": [
    "# Reset the MultiIndex to work with 'date' as a regular column\n",
    "df_reset = temp.reset_index()\n",
    "\n",
    "# Set 'date' as the index for resampling\n",
    "df_reset.set_index('date', inplace=True)\n",
    "\n",
    "# Resample the DataFrame based on the 'date' index\n",
    "df_resampled = df_reset.groupby('source_file').resample('W-mon').mean().interpolate(method='linear')\n",
    "\n",
    "# Reset index to reintroduce 'group' as a column\n",
    "df_resampled = df_resampled.reset_index(level=0)"
   ]
  },
  {
   "cell_type": "code",
   "execution_count": 173,
   "metadata": {},
   "outputs": [],
   "source": [
    "df_resampled = df_resampled.reset_index()"
   ]
  },
  {
   "cell_type": "code",
   "execution_count": 174,
   "metadata": {},
   "outputs": [
    {
     "data": {
      "text/html": [
       "<div>\n",
       "<style scoped>\n",
       "    .dataframe tbody tr th:only-of-type {\n",
       "        vertical-align: middle;\n",
       "    }\n",
       "\n",
       "    .dataframe tbody tr th {\n",
       "        vertical-align: top;\n",
       "    }\n",
       "\n",
       "    .dataframe thead th {\n",
       "        text-align: right;\n",
       "    }\n",
       "</style>\n",
       "<table border=\"1\" class=\"dataframe\">\n",
       "  <thead>\n",
       "    <tr style=\"text-align: right;\">\n",
       "      <th></th>\n",
       "      <th>date</th>\n",
       "      <th>source_file</th>\n",
       "      <th>temp</th>\n",
       "    </tr>\n",
       "  </thead>\n",
       "  <tbody>\n",
       "  </tbody>\n",
       "</table>\n",
       "</div>"
      ],
      "text/plain": [
       "Empty DataFrame\n",
       "Columns: [date, source_file, temp]\n",
       "Index: []"
      ]
     },
     "execution_count": 174,
     "metadata": {},
     "output_type": "execute_result"
    }
   ],
   "source": [
    "df_resampled[df_resampled['temp'].isna()]"
   ]
  },
  {
   "cell_type": "code",
   "execution_count": 175,
   "metadata": {},
   "outputs": [],
   "source": [
    "newdf = df_resampled[df_resampled['date'].dt.year != 2018]"
   ]
  },
  {
   "cell_type": "code",
   "execution_count": 176,
   "metadata": {},
   "outputs": [
    {
     "name": "stdout",
     "output_type": "stream",
     "text": [
      "<class 'pandas.core.frame.DataFrame'>\n",
      "Index: 3132 entries, 53 to 3767\n",
      "Data columns (total 3 columns):\n",
      " #   Column       Non-Null Count  Dtype         \n",
      "---  ------       --------------  -----         \n",
      " 0   date         3132 non-null   datetime64[ns]\n",
      " 1   source_file  3132 non-null   object        \n",
      " 2   temp         3132 non-null   float64       \n",
      "dtypes: datetime64[ns](1), float64(1), object(1)\n",
      "memory usage: 97.9+ KB\n"
     ]
    }
   ],
   "source": [
    "newdf.info()"
   ]
  },
  {
   "cell_type": "code",
   "execution_count": 177,
   "metadata": {},
   "outputs": [
    {
     "name": "stdout",
     "output_type": "stream",
     "text": [
      "Series has date           0\n",
      "source_file    0\n",
      "temp           0\n",
      "dtype: int64 missing values\n"
     ]
    }
   ],
   "source": [
    "print('Series has {} missing values'.format(newdf.isna().sum()))\n",
    "date_missed = newdf[newdf.isna()].index"
   ]
  },
  {
   "cell_type": "code",
   "execution_count": 178,
   "metadata": {},
   "outputs": [
    {
     "name": "stdout",
     "output_type": "stream",
     "text": [
      "<class 'pandas.core.frame.DataFrame'>\n",
      "Index: 3132 entries, 53 to 3767\n",
      "Data columns (total 3 columns):\n",
      " #   Column       Non-Null Count  Dtype         \n",
      "---  ------       --------------  -----         \n",
      " 0   date         3132 non-null   datetime64[ns]\n",
      " 1   source_file  3132 non-null   object        \n",
      " 2   temp         3132 non-null   float64       \n",
      "dtypes: datetime64[ns](1), float64(1), object(1)\n",
      "memory usage: 97.9+ KB\n"
     ]
    }
   ],
   "source": [
    "newdf.info()"
   ]
  },
  {
   "cell_type": "markdown",
   "metadata": {},
   "source": [
    "สถานีเมือง"
   ]
  },
  {
   "cell_type": "code",
   "execution_count": 179,
   "metadata": {},
   "outputs": [],
   "source": [
    "ST9601 =  newdf.groupby('date')[\"temp\"].mean().reset_index()"
   ]
  },
  {
   "cell_type": "code",
   "execution_count": 180,
   "metadata": {},
   "outputs": [
    {
     "name": "stdout",
     "output_type": "stream",
     "text": [
      "<class 'pandas.core.frame.DataFrame'>\n",
      "RangeIndex: 261 entries, 0 to 260\n",
      "Data columns (total 2 columns):\n",
      " #   Column  Non-Null Count  Dtype         \n",
      "---  ------  --------------  -----         \n",
      " 0   date    261 non-null    datetime64[ns]\n",
      " 1   temp    261 non-null    float64       \n",
      "dtypes: datetime64[ns](1), float64(1)\n",
      "memory usage: 4.2 KB\n"
     ]
    }
   ],
   "source": [
    "ST9601.info()"
   ]
  },
  {
   "cell_type": "code",
   "execution_count": 181,
   "metadata": {},
   "outputs": [],
   "source": [
    "ST9601['source_file'] = 'ST9601'"
   ]
  },
  {
   "cell_type": "code",
   "execution_count": 182,
   "metadata": {},
   "outputs": [
    {
     "data": {
      "text/html": [
       "<div>\n",
       "<style scoped>\n",
       "    .dataframe tbody tr th:only-of-type {\n",
       "        vertical-align: middle;\n",
       "    }\n",
       "\n",
       "    .dataframe tbody tr th {\n",
       "        vertical-align: top;\n",
       "    }\n",
       "\n",
       "    .dataframe thead th {\n",
       "        text-align: right;\n",
       "    }\n",
       "</style>\n",
       "<table border=\"1\" class=\"dataframe\">\n",
       "  <thead>\n",
       "    <tr style=\"text-align: right;\">\n",
       "      <th></th>\n",
       "      <th>date</th>\n",
       "      <th>temp</th>\n",
       "      <th>source_file</th>\n",
       "    </tr>\n",
       "  </thead>\n",
       "  <tbody>\n",
       "    <tr>\n",
       "      <th>0</th>\n",
       "      <td>2019-01-07</td>\n",
       "      <td>27.454255</td>\n",
       "      <td>ST9601</td>\n",
       "    </tr>\n",
       "    <tr>\n",
       "      <th>1</th>\n",
       "      <td>2019-01-14</td>\n",
       "      <td>27.487042</td>\n",
       "      <td>ST9601</td>\n",
       "    </tr>\n",
       "    <tr>\n",
       "      <th>2</th>\n",
       "      <td>2019-01-21</td>\n",
       "      <td>27.443323</td>\n",
       "      <td>ST9601</td>\n",
       "    </tr>\n",
       "    <tr>\n",
       "      <th>3</th>\n",
       "      <td>2019-01-28</td>\n",
       "      <td>27.272813</td>\n",
       "      <td>ST9601</td>\n",
       "    </tr>\n",
       "    <tr>\n",
       "      <th>4</th>\n",
       "      <td>2019-02-04</td>\n",
       "      <td>27.605421</td>\n",
       "      <td>ST9601</td>\n",
       "    </tr>\n",
       "  </tbody>\n",
       "</table>\n",
       "</div>"
      ],
      "text/plain": [
       "        date       temp source_file\n",
       "0 2019-01-07  27.454255      ST9601\n",
       "1 2019-01-14  27.487042      ST9601\n",
       "2 2019-01-21  27.443323      ST9601\n",
       "3 2019-01-28  27.272813      ST9601\n",
       "4 2019-02-04  27.605421      ST9601"
      ]
     },
     "execution_count": 182,
     "metadata": {},
     "output_type": "execute_result"
    }
   ],
   "source": [
    "ST9601.head()"
   ]
  },
  {
   "cell_type": "code",
   "execution_count": 183,
   "metadata": {},
   "outputs": [],
   "source": [
    "newdf3 = pd.concat([newdf, ST9601], ignore_index=True)"
   ]
  },
  {
   "cell_type": "code",
   "execution_count": 184,
   "metadata": {},
   "outputs": [
    {
     "name": "stdout",
     "output_type": "stream",
     "text": [
      "<class 'pandas.core.frame.DataFrame'>\n",
      "RangeIndex: 3393 entries, 0 to 3392\n",
      "Data columns (total 3 columns):\n",
      " #   Column       Non-Null Count  Dtype         \n",
      "---  ------       --------------  -----         \n",
      " 0   date         3393 non-null   datetime64[ns]\n",
      " 1   source_file  3393 non-null   object        \n",
      " 2   temp         3393 non-null   float64       \n",
      "dtypes: datetime64[ns](1), float64(1), object(1)\n",
      "memory usage: 79.7+ KB\n"
     ]
    }
   ],
   "source": [
    "newdf3.info()"
   ]
  },
  {
   "cell_type": "code",
   "execution_count": 185,
   "metadata": {},
   "outputs": [
    {
     "data": {
      "text/html": [
       "<div>\n",
       "<style scoped>\n",
       "    .dataframe tbody tr th:only-of-type {\n",
       "        vertical-align: middle;\n",
       "    }\n",
       "\n",
       "    .dataframe tbody tr th {\n",
       "        vertical-align: top;\n",
       "    }\n",
       "\n",
       "    .dataframe thead th {\n",
       "        text-align: right;\n",
       "    }\n",
       "</style>\n",
       "<table border=\"1\" class=\"dataframe\">\n",
       "  <thead>\n",
       "    <tr style=\"text-align: right;\">\n",
       "      <th></th>\n",
       "      <th>date</th>\n",
       "      <th>source_file</th>\n",
       "      <th>temp</th>\n",
       "    </tr>\n",
       "  </thead>\n",
       "  <tbody>\n",
       "    <tr>\n",
       "      <th>0</th>\n",
       "      <td>2019-01-07</td>\n",
       "      <td>BUKT.csv</td>\n",
       "      <td>27.388372</td>\n",
       "    </tr>\n",
       "    <tr>\n",
       "      <th>1</th>\n",
       "      <td>2019-01-14</td>\n",
       "      <td>BUKT.csv</td>\n",
       "      <td>27.350000</td>\n",
       "    </tr>\n",
       "    <tr>\n",
       "      <th>2</th>\n",
       "      <td>2019-01-21</td>\n",
       "      <td>BUKT.csv</td>\n",
       "      <td>27.066423</td>\n",
       "    </tr>\n",
       "    <tr>\n",
       "      <th>3</th>\n",
       "      <td>2019-01-28</td>\n",
       "      <td>BUKT.csv</td>\n",
       "      <td>26.801923</td>\n",
       "    </tr>\n",
       "    <tr>\n",
       "      <th>4</th>\n",
       "      <td>2019-02-04</td>\n",
       "      <td>BUKT.csv</td>\n",
       "      <td>28.123077</td>\n",
       "    </tr>\n",
       "  </tbody>\n",
       "</table>\n",
       "</div>"
      ],
      "text/plain": [
       "        date source_file       temp\n",
       "0 2019-01-07    BUKT.csv  27.388372\n",
       "1 2019-01-14    BUKT.csv  27.350000\n",
       "2 2019-01-21    BUKT.csv  27.066423\n",
       "3 2019-01-28    BUKT.csv  26.801923\n",
       "4 2019-02-04    BUKT.csv  28.123077"
      ]
     },
     "execution_count": 185,
     "metadata": {},
     "output_type": "execute_result"
    }
   ],
   "source": [
    "newdf3.head()"
   ]
  },
  {
   "cell_type": "code",
   "execution_count": 186,
   "metadata": {},
   "outputs": [],
   "source": [
    "newdf3['source_file'] = newdf3['source_file'].replace('ST9601', '9601')\n",
    "newdf3['source_file'] = newdf3['source_file'].replace('STH007.csv', '9602')\n",
    "newdf3['source_file'] = newdf3['source_file'].replace('STH023.csv', '9603')\n",
    "newdf3['source_file'] = newdf3['source_file'].replace('STH011.csv', '9604')\n",
    "newdf3['source_file'] = newdf3['source_file'].replace('STH005.csv', '9605')\n",
    "newdf3['source_file'] = newdf3['source_file'].replace('STH022.csv', '9606')\n",
    "newdf3['source_file'] = newdf3['source_file'].replace('STH019.csv', '9607')\n",
    "newdf3['source_file'] = newdf3['source_file'].replace('STH021.csv', '9608')\n",
    "newdf3['source_file'] = newdf3['source_file'].replace('STH014.csv', '9609')\n",
    "newdf3['source_file'] = newdf3['source_file'].replace('STH010.csv', '9610')\n",
    "newdf3['source_file'] = newdf3['source_file'].replace('BUKT.csv', '9611')\n",
    "newdf3['source_file'] = newdf3['source_file'].replace('STH026.csv', '9612')\n",
    "newdf3['source_file'] = newdf3['source_file'].replace('STH025.csv', '9613')"
   ]
  },
  {
   "cell_type": "code",
   "execution_count": 187,
   "metadata": {},
   "outputs": [],
   "source": [
    "newdf3.rename(columns={'source_file': \"station\"}, inplace=True)"
   ]
  },
  {
   "cell_type": "code",
   "execution_count": 188,
   "metadata": {},
   "outputs": [
    {
     "name": "stdout",
     "output_type": "stream",
     "text": [
      "<class 'pandas.core.frame.DataFrame'>\n",
      "RangeIndex: 3393 entries, 0 to 3392\n",
      "Data columns (total 3 columns):\n",
      " #   Column   Non-Null Count  Dtype         \n",
      "---  ------   --------------  -----         \n",
      " 0   date     3393 non-null   datetime64[ns]\n",
      " 1   station  3393 non-null   object        \n",
      " 2   temp     3393 non-null   float64       \n",
      "dtypes: datetime64[ns](1), float64(1), object(1)\n",
      "memory usage: 79.7+ KB\n"
     ]
    }
   ],
   "source": [
    "newdf3.info()"
   ]
  },
  {
   "cell_type": "code",
   "execution_count": 189,
   "metadata": {},
   "outputs": [
    {
     "data": {
      "text/html": [
       "<div>\n",
       "<style scoped>\n",
       "    .dataframe tbody tr th:only-of-type {\n",
       "        vertical-align: middle;\n",
       "    }\n",
       "\n",
       "    .dataframe tbody tr th {\n",
       "        vertical-align: top;\n",
       "    }\n",
       "\n",
       "    .dataframe thead th {\n",
       "        text-align: right;\n",
       "    }\n",
       "</style>\n",
       "<table border=\"1\" class=\"dataframe\">\n",
       "  <thead>\n",
       "    <tr style=\"text-align: right;\">\n",
       "      <th></th>\n",
       "      <th>date</th>\n",
       "      <th>station</th>\n",
       "      <th>temp</th>\n",
       "    </tr>\n",
       "  </thead>\n",
       "  <tbody>\n",
       "    <tr>\n",
       "      <th>0</th>\n",
       "      <td>2019-01-07</td>\n",
       "      <td>9611</td>\n",
       "      <td>27.388372</td>\n",
       "    </tr>\n",
       "    <tr>\n",
       "      <th>1</th>\n",
       "      <td>2019-01-14</td>\n",
       "      <td>9611</td>\n",
       "      <td>27.350000</td>\n",
       "    </tr>\n",
       "    <tr>\n",
       "      <th>2</th>\n",
       "      <td>2019-01-21</td>\n",
       "      <td>9611</td>\n",
       "      <td>27.066423</td>\n",
       "    </tr>\n",
       "    <tr>\n",
       "      <th>3</th>\n",
       "      <td>2019-01-28</td>\n",
       "      <td>9611</td>\n",
       "      <td>26.801923</td>\n",
       "    </tr>\n",
       "    <tr>\n",
       "      <th>4</th>\n",
       "      <td>2019-02-04</td>\n",
       "      <td>9611</td>\n",
       "      <td>28.123077</td>\n",
       "    </tr>\n",
       "  </tbody>\n",
       "</table>\n",
       "</div>"
      ],
      "text/plain": [
       "        date station       temp\n",
       "0 2019-01-07    9611  27.388372\n",
       "1 2019-01-14    9611  27.350000\n",
       "2 2019-01-21    9611  27.066423\n",
       "3 2019-01-28    9611  26.801923\n",
       "4 2019-02-04    9611  28.123077"
      ]
     },
     "execution_count": 189,
     "metadata": {},
     "output_type": "execute_result"
    }
   ],
   "source": [
    "newdf3.head()"
   ]
  },
  {
   "cell_type": "markdown",
   "metadata": {},
   "source": [
    "หาค่าเฉลี่ยของ week รายอำเภอ"
   ]
  },
  {
   "cell_type": "code",
   "execution_count": null,
   "metadata": {},
   "outputs": [],
   "source": [
    "# temp_mean_week = temp.groupby(['source_file','week_number'])[\"temp\"].mean().reset_index(name='temp_mean')\n",
    "# temp_mean_week.tail(30)"
   ]
  },
  {
   "cell_type": "markdown",
   "metadata": {},
   "source": [
    "หาค่าเฉลี่ยของ week ทั้งจังหวัด"
   ]
  },
  {
   "cell_type": "code",
   "execution_count": null,
   "metadata": {},
   "outputs": [],
   "source": [
    "# temp_mean_week = temp.groupby(['date'])[\"temp\"].mean().reset_index(name='temp_mean')\n",
    "# temp_mean_week.head(10)"
   ]
  },
  {
   "cell_type": "code",
   "execution_count": 137,
   "metadata": {},
   "outputs": [],
   "source": [
    "# # Apply the function to get the week number\n",
    "# temp_mean_week['week_number'] = temp_mean_week['date'].apply(calculate_week_number)"
   ]
  },
  {
   "cell_type": "code",
   "execution_count": null,
   "metadata": {},
   "outputs": [],
   "source": [
    "# temp_mean_week.head()"
   ]
  },
  {
   "cell_type": "code",
   "execution_count": null,
   "metadata": {},
   "outputs": [],
   "source": [
    "# temp_mean_week.info()"
   ]
  },
  {
   "cell_type": "code",
   "execution_count": null,
   "metadata": {},
   "outputs": [],
   "source": [
    "# temp_mean_week['YEAR'] = temp_mean_week['date'].dt.year\n",
    "# temp_mean_week.head()"
   ]
  },
  {
   "cell_type": "code",
   "execution_count": null,
   "metadata": {},
   "outputs": [],
   "source": [
    "# # Group by week number and sum cases\n",
    "# #weekly_cases = df.groupby('week_number','NADDRCODE')['DATESICK'].count().reset_index()\n",
    "# temp_on_week_in_year = temp_mean_week.groupby(['week_number','YEAR'])[\"temp_mean\"].mean().reset_index(name='temp_mean')\n",
    "# print(temp_on_week_in_year)"
   ]
  },
  {
   "cell_type": "code",
   "execution_count": 147,
   "metadata": {},
   "outputs": [],
   "source": [
    "# def find_week_number(date):\n",
    "#     \"\"\"\n",
    "#     Calculate the week number of a given date, where week 1 starts on January 7.\n",
    "\n",
    "#     Args:\n",
    "#     date (datetime.date): The date to calculate the week number for.\n",
    "\n",
    "#     Returns:\n",
    "#     int: The week number of the date.\n",
    "#     \"\"\"\n",
    "#     # Define the starting date of week 1\n",
    "#     start_date = datetime.date(date.year, 1, 7)\n",
    "    \n",
    "#     # If the given date is before January 7 of the same year, adjust the start date to the previous year's January 7\n",
    "#     if date < start_date:\n",
    "#         start_date = datetime.date(date.year - 1, 1, 7)\n",
    "    \n",
    "#     # Calculate the difference in days\n",
    "#     days_diff = (date - start_date).days\n",
    "    \n",
    "#     # Calculate the week number\n",
    "#     week_number = (days_diff // 7) + 1\n",
    "    \n",
    "#     return week_number\n",
    "\n",
    "# def get_start_of_week(week_number, year):\n",
    "#     \"\"\"\n",
    "#     Calculate the start date of a given week number, where week 1 starts on January 7.\n",
    "\n",
    "#     Args:\n",
    "#     week_number (int): The week number.\n",
    "#     year (int): The year.\n",
    "\n",
    "#     Returns:\n",
    "#     datetime.date: The start date of the week.\n",
    "#     \"\"\"\n",
    "#     start_date = datetime.date(year, 1, 7)\n",
    "#     start_of_week = start_date + datetime.timedelta(weeks=week_number - 1)\n",
    "#     return start_of_week\n",
    "\n",
    "# def create_weeks_dataframe(start_date_str, end_date_str):\n",
    "#     \"\"\"\n",
    "#     Create a DataFrame with weeks starting from January 7, along with their start and end dates.\n",
    "\n",
    "#     Args:\n",
    "#     start_date_str (str): The start date string for the DataFrame in 'YYYY-MM-DD' format.\n",
    "#     end_date_str (str): The end date string for the DataFrame in 'YYYY-MM-DD' format.\n",
    "\n",
    "#     Returns:\n",
    "#     pd.DataFrame: A DataFrame with week numbers and their start and end dates.\n",
    "#     \"\"\"\n",
    "#     start_date = datetime.datetime.strptime(start_date_str, '%Y-%m-%d').date()\n",
    "#     end_date = datetime.datetime.strptime(end_date_str, '%Y-%m-%d').date()\n",
    "    \n",
    "#     weeks = []\n",
    "#     current_date = start_date\n",
    "    \n",
    "#     while current_date <= end_date:\n",
    "#         week_number = find_week_number(current_date)\n",
    "#         start_of_week = get_start_of_week(week_number, current_date.year)\n",
    "#         end_of_week = start_of_week + datetime.timedelta(days=6)\n",
    "#         weeks.append({\n",
    "#             'week_number': week_number,\n",
    "#             'start_date': start_of_week,\n",
    "#             'end_date': end_of_week\n",
    "#         })\n",
    "#         current_date = end_of_week + datetime.timedelta(days=1)\n",
    "    \n",
    "#     weeks_df = pd.DataFrame(weeks).drop_duplicates(subset=['week_number'])\n",
    "#     return weeks_df"
   ]
  },
  {
   "cell_type": "code",
   "execution_count": null,
   "metadata": {},
   "outputs": [],
   "source": [
    "# # Example usage:\n",
    "# start_date = '2024-01-07'\n",
    "# end_date = '2025-01-04'\n",
    "# weeks_df = create_weeks_dataframe(start_date, end_date)\n",
    "# weeks_df"
   ]
  },
  {
   "cell_type": "code",
   "execution_count": null,
   "metadata": {},
   "outputs": [],
   "source": [
    "# temp_on_week_in_year.info()"
   ]
  },
  {
   "cell_type": "code",
   "execution_count": null,
   "metadata": {},
   "outputs": [],
   "source": [
    "# ndf = temp_on_week_in_year.merge(weeks_df, on='week_number', how='left')\n",
    "# ndf.head()"
   ]
  },
  {
   "cell_type": "code",
   "execution_count": null,
   "metadata": {},
   "outputs": [],
   "source": [
    "# new_df2 = pd.merge(temp_on_week_in_year, weeks_df , on=['week_number'])\n",
    "# new_df2 = new_df2[['week_number','YEAR', 'start_date', 'end_date', 'temp_mean']]\n",
    "# new_df2.head()"
   ]
  },
  {
   "cell_type": "code",
   "execution_count": null,
   "metadata": {},
   "outputs": [],
   "source": [
    "# # Strip any leading/trailing whitespace from the date strings\n",
    "# # new_df2['start_date'] = new_df2['start_date'].str.strip()\n",
    "\n",
    "# # Convert 'DATESICK' column to datetime\n",
    "# new_df2['start_date'] = pd.to_datetime(new_df2['start_date'], format='%d/%m/%Y')\n",
    "# new_df2['MONTH'] = new_df2['start_date'].dt.month\n",
    "# new_df2['DAY'] = new_df2['start_date'].dt.day\n",
    "# new_df2.head()"
   ]
  },
  {
   "cell_type": "code",
   "execution_count": 159,
   "metadata": {},
   "outputs": [],
   "source": [
    "# # new_df2['DATE'] = pd.to_datetime(new_df2[['YEARSICK','MONTHSICK','DAYSICK']])\n",
    "# new_df2['date'] = pd.to_datetime(new_df2.YEAR.astype(str) + '/' + new_df2.MONTH.astype(str) +'/' + new_df2.DAY.astype(str))"
   ]
  },
  {
   "cell_type": "code",
   "execution_count": 160,
   "metadata": {},
   "outputs": [],
   "source": [
    "# df2 = new_df2[['date','temp_mean']].sort_values('date')"
   ]
  },
  {
   "cell_type": "code",
   "execution_count": null,
   "metadata": {},
   "outputs": [],
   "source": [
    "# df2.rename(columns={'date': \"date\", 'temp_mean' : \"temp\"}, inplace=True)\n",
    "# df2.info()"
   ]
  },
  {
   "cell_type": "code",
   "execution_count": 192,
   "metadata": {},
   "outputs": [],
   "source": [
    "newdf3.to_csv(r\"data\\dataset\\temp_all.csv\", index=False)"
   ]
  }
 ],
 "metadata": {
  "kernelspec": {
   "display_name": "Python 3",
   "language": "python",
   "name": "python3"
  },
  "language_info": {
   "codemirror_mode": {
    "name": "ipython",
    "version": 3
   },
   "file_extension": ".py",
   "mimetype": "text/x-python",
   "name": "python",
   "nbconvert_exporter": "python",
   "pygments_lexer": "ipython3",
   "version": "3.11.9"
  }
 },
 "nbformat": 4,
 "nbformat_minor": 2
}
