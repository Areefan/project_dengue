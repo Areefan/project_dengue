{
 "cells": [
  {
   "cell_type": "code",
   "execution_count": 1,
   "metadata": {},
   "outputs": [],
   "source": [
    "import os\n",
    "import pandas as pd\n",
    "import glob\n"
   ]
  },
  {
   "cell_type": "code",
   "execution_count": 2,
   "metadata": {},
   "outputs": [
    {
     "name": "stdout",
     "output_type": "stream",
     "text": [
      "                date   time  temp                  source_file\n",
      "0         2018-01-01  00:00  20.6    2018\\2018\\201801\\ABRT.csv\n",
      "1         2018-01-01  01:00  20.1    2018\\2018\\201801\\ABRT.csv\n",
      "2         2018-01-01  02:00  20.1    2018\\2018\\201801\\ABRT.csv\n",
      "3         2018-01-01  03:00  19.6    2018\\2018\\201801\\ABRT.csv\n",
      "4         2018-01-01  04:00  19.1    2018\\2018\\201801\\ABRT.csv\n",
      "...              ...    ...   ...                          ...\n",
      "49780603  2023-12-31  19:00  28.6  2023\\2023\\202312\\YOM012.csv\n",
      "49780604  2023-12-31  20:00  26.4  2023\\2023\\202312\\YOM012.csv\n",
      "49780605  2023-12-31  21:00  25.1  2023\\2023\\202312\\YOM012.csv\n",
      "49780606  2023-12-31  22:00  24.2  2023\\2023\\202312\\YOM012.csv\n",
      "49780607  2023-12-31  23:00    24  2023\\2023\\202312\\YOM012.csv\n",
      "\n",
      "[49780608 rows x 4 columns]\n"
     ]
    }
   ],
   "source": [
    "# Specify the directory containing the CSV files\n",
    "directory = r'data/'  # Use raw string to handle backslashes\n",
    "\n",
    "# Read each CSV file into a DataFrame, add a new column, and store them in a list\n",
    "dataframes = []\n",
    "for dirpath, _, filenames in os.walk(directory):\n",
    "    for file in filenames:\n",
    "        if file.endswith('.csv'):\n",
    "            file_path = os.path.join(dirpath, file)\n",
    "            try:\n",
    "                df = pd.read_csv(file_path)\n",
    "                df['source_file'] = os.path.relpath(file_path, directory)  # Add a new column with the relative file path\n",
    "                dataframes.append(df)\n",
    "            except FileNotFoundError:\n",
    "                print(f\"File not found: {file_path}\")\n",
    "            except pd.errors.EmptyDataError:\n",
    "                print(f\"File is empty: {file_path}\")\n",
    "            except Exception as e:\n",
    "                print(f\"Error reading {file_path}: {e}\")\n",
    "\n",
    "# Optionally, concatenate all DataFrames into a single DataFrame\n",
    "if dataframes:\n",
    "    all_data = pd.concat(dataframes, ignore_index=True)\n",
    "    # Now 'all_data' contains all the data from the CSV files with an additional column 'source_file'\n",
    "    print(all_data)\n",
    "else:\n",
    "    print(\"No dataframes to concatenate.\")"
   ]
  },
  {
   "cell_type": "code",
   "execution_count": null,
   "metadata": {},
   "outputs": [],
   "source": [
    "temp = pd.DataFrame(dataframes)"
   ]
  },
  {
   "cell_type": "code",
   "execution_count": 4,
   "metadata": {},
   "outputs": [
    {
     "name": "stdout",
     "output_type": "stream",
     "text": [
      "[]\n"
     ]
    }
   ],
   "source": [
    "# Specify the directory containing the CSV files\n",
    "directory = r'data/'  # Use raw string to handle backslashes\n",
    "# Get all CSV files in the directory\n",
    "csv_files = glob.glob(os.path.join(directory, \"*.csv\"))\n",
    "print(csv_files)\n",
    "\n",
    "# dataframes = []\n",
    "# try:\n",
    "#   # Read all CSV files into a list of DataFrames\n",
    "#   dataframes = pd.read_csv(csv_files, low_memory=False)\n",
    "# except pd.errors.EmptyDataError as e:\n",
    "#   print(f\"One or more files are empty: {e}\")\n",
    "# except Exception as e:\n",
    "#   print(f\"Error reading CSV files: {e}\")"
   ]
  },
  {
   "cell_type": "code",
   "execution_count": null,
   "metadata": {},
   "outputs": [],
   "source": [
    "# Optionally, concatenate all DataFrames into a single DataFrame\n",
    "all_data = pd.concat(dataframes, ignore_index=True)\n",
    "\n",
    "# Now 'all_data' contains all the data from the CSV files with an additional column 'source_file'\n",
    "print(all_data)"
   ]
  }
 ],
 "metadata": {
  "kernelspec": {
   "display_name": "Python 3",
   "language": "python",
   "name": "python3"
  },
  "language_info": {
   "codemirror_mode": {
    "name": "ipython",
    "version": 3
   },
   "file_extension": ".py",
   "mimetype": "text/x-python",
   "name": "python",
   "nbconvert_exporter": "python",
   "pygments_lexer": "ipython3",
   "version": "3.12.2"
  }
 },
 "nbformat": 4,
 "nbformat_minor": 2
}
