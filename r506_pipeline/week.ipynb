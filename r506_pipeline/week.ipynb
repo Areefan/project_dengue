{
 "cells": [
  {
   "cell_type": "code",
   "execution_count": null,
   "metadata": {},
   "outputs": [],
   "source": [
    "def create_weeks_dataframe(start_date, end_date):\n",
    "    \"\"\"\n",
    "    Create a DataFrame with weeks between start_date and end_date.\n",
    "\n",
    "    Parameters:\n",
    "    - start_date (str): Start date in 'YYYY-MM-DD' format.\n",
    "    - end_date (str): End date in 'YYYY-MM-DD' format.\n",
    "\n",
    "    Returns:\n",
    "    - pd.DataFrame: DataFrame with columns 'Week Number', 'Start Date', 'End Date'.\n",
    "    \"\"\"\n",
    "    start_date = datetime.strptime(start_date, '%Y-%m-%d')\n",
    "    end_date = datetime.strptime(end_date, '%Y-%m-%d')\n",
    "\n",
    "    weeks = []\n",
    "    current_date = start_date\n",
    "    week_number = 1\n",
    "\n",
    "    while current_date <= end_date:\n",
    "        week_start = current_date\n",
    "        week_end = current_date + timedelta(days=6)\n",
    "        if week_end > end_date:\n",
    "            week_end = end_date\n",
    "        weeks.append({\n",
    "            'Week Number': week_number,\n",
    "            'Start Date': week_start.strftime('%Y-%m-%d'),\n",
    "            'End Date': week_end.strftime('%Y-%m-%d')\n",
    "        })\n",
    "        current_date = week_end + timedelta(days=1)\n",
    "        week_number += 1\n",
    "\n",
    "    return pd.DataFrame(weeks)"
   ]
  },
  {
   "cell_type": "code",
   "execution_count": null,
   "metadata": {},
   "outputs": [],
   "source": [
    "# Example usage:\n",
    "start_date = '2024-01-07'\n",
    "end_date = '2025-01-04'\n",
    "weeks_df = create_weeks_dataframe(start_date, end_date)"
   ]
  },
  {
   "cell_type": "code",
   "execution_count": null,
   "metadata": {},
   "outputs": [],
   "source": [
    "print(weeks_df)"
   ]
  },
  {
   "cell_type": "code",
   "execution_count": null,
   "metadata": {},
   "outputs": [],
   "source": [
    "def find_week_number(date):\n",
    "    \"\"\"\n",
    "    Calculate the week number of a given date, where week 1 starts on January 7.\n",
    "\n",
    "    Args:\n",
    "    date (datetime.date): The date to calculate the week number for.\n",
    "\n",
    "    Returns:\n",
    "    int: The week number of the date.\n",
    "    \"\"\"\n",
    "    # Define the starting date of week 1\n",
    "    start_date = datetime.date(date.year, 1, 7)\n",
    "    \n",
    "    # If the given date is before January 7 of the same year, adjust the start date to the previous year's January 7\n",
    "    if date < start_date:\n",
    "        start_date = datetime.date(date.year - 1, 1, 7)\n",
    "    \n",
    "    # Calculate the difference in days\n",
    "    days_diff = (date - start_date).days\n",
    "    \n",
    "    # Calculate the week number\n",
    "    week_number = (days_diff // 7) + 1\n",
    "    \n",
    "    return week_number\n"
   ]
  },
  {
   "cell_type": "code",
   "execution_count": null,
   "metadata": {},
   "outputs": [],
   "source": [
    "\n",
    "# Example usage\n",
    "date = datetime.date(2023, 1, 8)\n",
    "print(find_week_number(date))  # Output: 27"
   ]
  },
  {
   "cell_type": "code",
   "execution_count": null,
   "metadata": {},
   "outputs": [],
   "source": [
    "ddistrict = {\n",
    "    'Name': ['เมือง',\n",
    "            'ตากใบ',\n",
    "            'บาเจาะ',\n",
    "            'ยี่งอ',\n",
    "            'ระแงะ',\n",
    "            'รือเสาะ',\n",
    "            'ศรีสาคร',\n",
    "            'แว้ง',\n",
    "            'สุคิริน',\n",
    "            'สุไหงโกโลก',\n",
    "            'สุไหงปาดี',\n",
    "            'จะแนะ',\n",
    "            'เจาะไอร้อง'],\n",
    "    'ID': [9601, 9602, 9603, 9604, 9605,9606,9607,9608,9609,9610,9611,9612,9613]\n",
    "}\n",
    "dfdistrict = pd.DataFrame(ddistrict)\n",
    "dfdistrict"
   ]
  }
 ],
 "metadata": {
  "language_info": {
   "name": "python"
  }
 },
 "nbformat": 4,
 "nbformat_minor": 2
}
