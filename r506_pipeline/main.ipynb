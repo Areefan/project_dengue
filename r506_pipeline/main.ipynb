{
 "cells": [
  {
   "cell_type": "code",
   "execution_count": null,
   "metadata": {},
   "outputs": [],
   "source": [
    "import pandas as pd\n",
    "import sqlalchemy as sa\n",
    "from urllib.parse import quote\n",
    "import datetime\n",
    "import seaborn as sns\n",
    "from datetime import datetime, timedelta\n",
    "import datetime"
   ]
  },
  {
   "cell_type": "code",
   "execution_count": null,
   "metadata": {},
   "outputs": [],
   "source": [
    "cur_time = datetime.datetime.now().strftime('%Y-%m-%d %H:%M:%S')\n",
    "print(\"current times:\", cur_time)"
   ]
  },
  {
   "cell_type": "code",
   "execution_count": null,
   "metadata": {},
   "outputs": [],
   "source": [
    "df = pd.read_csv(\"data/dataset.csv\", encoding=\"cp874\", )"
   ]
  },
  {
   "cell_type": "code",
   "execution_count": null,
   "metadata": {},
   "outputs": [],
   "source": [
    "df.info()"
   ]
  },
  {
   "cell_type": "markdown",
   "metadata": {},
   "source": [
    "Func show label"
   ]
  },
  {
   "cell_type": "code",
   "execution_count": null,
   "metadata": {},
   "outputs": [],
   "source": [
    "def annotate_vertical_plot(ax):\n",
    "  for p in ax.patches:\n",
    "    value = p.get_height()\n",
    "    position = (p.get_x() + p.get_width() / 2, p.get_height())\n",
    "    ax.annotate(f\"{value: .0f}\", position, ha =\"center\", va=\"bottom\")"
   ]
  },
  {
   "cell_type": "markdown",
   "metadata": {},
   "source": [
    "ref data dic : https://apps-doe.moph.go.th/boe/software/file/R506_v_4_10.pdf"
   ]
  },
  {
   "cell_type": "markdown",
   "metadata": {},
   "source": [
    "ประเภทเชื้อ"
   ]
  },
  {
   "cell_type": "code",
   "execution_count": null,
   "metadata": {},
   "outputs": [],
   "source": [
    "ax = sns.countplot(data=df, x=\"DISEASE\", )\n",
    "annotate_vertical_plot(ax)"
   ]
  },
  {
   "cell_type": "markdown",
   "metadata": {},
   "source": [
    "เพศ 1 ชาย 2 หญิง"
   ]
  },
  {
   "cell_type": "code",
   "execution_count": null,
   "metadata": {},
   "outputs": [],
   "source": [
    "ax = sns.countplot(data=df , x=\"SEX\")\n",
    "annotate_vertical_plot(ax)"
   ]
  },
  {
   "cell_type": "markdown",
   "metadata": {},
   "source": [
    "สถานะ  1 โสด 2 คู่ 3 หย่าร้าง 4 หม้าย 5 ไม่ทราบ"
   ]
  },
  {
   "cell_type": "code",
   "execution_count": null,
   "metadata": {},
   "outputs": [],
   "source": [
    "ax = sns.countplot(data=df , x=\"MARIETAL\")\n",
    "annotate_vertical_plot(ax)"
   ]
  },
  {
   "cell_type": "markdown",
   "metadata": {},
   "source": [
    "สัญชาติ 1 ไทย 2 จีน/ฮ่องกง/ไต้หวัน 3 พม่า 4 มาเลเซีย 5 กัมพูชา 6 ลาว 7 เวียดนาม 8 อื่น"
   ]
  },
  {
   "cell_type": "code",
   "execution_count": null,
   "metadata": {},
   "outputs": [],
   "source": [
    "# def change_race(txt) :\n",
    "#    race_dict = {\n",
    "#         \"ไทย\": 1,\n",
    "#         \"จีน\": 2,\n",
    "#         \"ฮ๋องกง\": 2,\n",
    "#         \"ไต้หวัน\": 2,\n",
    "#         \"พม่า\": 3,\n",
    "#         \"มาเลเซีย\": 4,\n",
    "#         \"กัมพูชา\": 5,\n",
    "#         \"ลาว\": 6,\n",
    "#         \"เวียดนาม\": 7,\n",
    "#         \"อื่นๆ\": 8\n",
    "#     }\n",
    "#    if txt in race_dict:\n",
    "#       return race_dict[txt]\n",
    "#    else:\n",
    "#       return \"ไม่พบข้อมูล\""
   ]
  },
  {
   "cell_type": "code",
   "execution_count": null,
   "metadata": {},
   "outputs": [],
   "source": [
    "##print(change_race(\"ไทย\"))"
   ]
  },
  {
   "cell_type": "code",
   "execution_count": null,
   "metadata": {},
   "outputs": [],
   "source": [
    "df.loc[df['RACE'] == 'ไทย', 'RACE'] = '1'\n",
    "df.loc[df['RACE'] == 'จีน', 'RACE'] = '2'\n",
    "df.loc[df['RACE'] == 'ฮ๋องกง', 'RACE'] = '2'\n",
    "df.loc[df['RACE'] == 'ไต้หวัน', 'RACE'] = '2'\n",
    "df.loc[df['RACE'] == 'พม่า', 'RACE'] = '3'\n",
    "df.loc[df['RACE'] == 'มาเลเซีย', 'RACE'] = '4'\n",
    "df.loc[df['RACE'] == 'กัมพูชา', 'RACE'] = '5'\n",
    "df.loc[df['RACE'] == 'ลาว', 'RACE'] = '6'\n",
    "df.loc[df['RACE'] == 'เวียดนาม', 'RACE'] = '7'\n",
    "df.loc[df['RACE'] == 'อื่นๆ', 'RACE'] = '8'\n"
   ]
  },
  {
   "cell_type": "code",
   "execution_count": null,
   "metadata": {},
   "outputs": [],
   "source": [
    "ax = sns.countplot(data=df , x=\"RACE\")\n",
    "annotate_vertical_plot(ax)"
   ]
  },
  {
   "cell_type": "code",
   "execution_count": null,
   "metadata": {},
   "outputs": [],
   "source": [
    "# ax = sns.countplot(data=df , x=\"DATESICK\")\n",
    "# annotate_vertical_plot(ax)"
   ]
  },
  {
   "cell_type": "markdown",
   "metadata": {},
   "source": [
    "ผู้ป่วยรายอำเภอ"
   ]
  },
  {
   "cell_type": "code",
   "execution_count": null,
   "metadata": {},
   "outputs": [],
   "source": [
    "df['NADDRCODE'] = df.ADDRCODE.apply(lambda x: x[:4])\n",
    "df['NADDRCODE']"
   ]
  },
  {
   "cell_type": "code",
   "execution_count": null,
   "metadata": {},
   "outputs": [],
   "source": [
    "patient_grouped = df.groupby([ 'NADDRCODE']).size().reset_index()\n",
    "print(patient_grouped)"
   ]
  },
  {
   "cell_type": "code",
   "execution_count": null,
   "metadata": {},
   "outputs": [],
   "source": [
    "ax = sns.countplot(data=df , x=\"NADDRCODE\")\n",
    "annotate_vertical_plot(ax)"
   ]
  },
  {
   "cell_type": "code",
   "execution_count": null,
   "metadata": {},
   "outputs": [],
   "source": [
    "new_df = df[~df[\"NADDRCODE\"].str.contains('96')]\n",
    "new_df"
   ]
  },
  {
   "cell_type": "markdown",
   "metadata": {},
   "source": [
    "เอาเฉพาะผู้ป่วยที่อยุ่นราธิวาส"
   ]
  },
  {
   "cell_type": "code",
   "execution_count": null,
   "metadata": {},
   "outputs": [],
   "source": [
    "df = df[df[\"NADDRCODE\"].str.contains('96')]\n",
    "df"
   ]
  },
  {
   "cell_type": "code",
   "execution_count": null,
   "metadata": {},
   "outputs": [],
   "source": [
    "# Strip any leading/trailing whitespace from the date strings\n",
    "df['DATESICK'] = df['DATESICK'].str.strip()\n",
    "\n",
    "# Convert 'DATESICK' column to datetime\n",
    "df['DATESICK'] = pd.to_datetime(df['DATESICK'], format='%d/%m/%Y')\n",
    "\n",
    "print(df)\n",
    "# print(df.dtypes)"
   ]
  },
  {
   "cell_type": "code",
   "execution_count": null,
   "metadata": {},
   "outputs": [],
   "source": [
    "# from datetime import datetime\n",
    "def calculate_week_number(str_date):\n",
    "    # Start of the custom week 1\n",
    "    # str_date = datetime.strptime(str_date, format).date()\n",
    "    start_of_week_1 = pd.Timestamp(year=str_date.year, month=1, day=7)\n",
    "    # print(start_of_week_1)\n",
    "    # if str_date < start_of_week_1:\n",
    "    #     start_date = datetime.date(str_date.year, 1, 7)\n",
    "    if str_date < start_of_week_1:\n",
    "        return 52  # For dates before the start of week 1\n",
    "    return ((str_date - start_of_week_1).days // 7) + 1"
   ]
  },
  {
   "cell_type": "code",
   "execution_count": null,
   "metadata": {},
   "outputs": [],
   "source": [
    "# Sample data with date as string\n",
    "# data = {\n",
    "#     'date': ['02/01/2024', '07/01/2024', '06/07/2024'],\n",
    "#     'cases': [5, 10, 3]\n",
    "# }\n",
    "# da = pd.DataFrame(data)\n",
    "\n",
    "# da['ndate'] = da['date'].str.strip()\n",
    "\n",
    "# # Convert 'DATESICK' column to datetime\n",
    "# da['ndate'] = pd.to_datetime(da['ndate'], format='%d/%m/%Y')\n",
    "# da.info()\n",
    "# da['week_number'] = da['ndate'].apply(calculate_week_number)\n",
    "# print(da)"
   ]
  },
  {
   "cell_type": "code",
   "execution_count": null,
   "metadata": {},
   "outputs": [],
   "source": [
    "# Apply the function to get the week number\n",
    "#df['week_number'] = df['DATESICK'].apply(calculate_week_number)\n",
    "\n",
    "# Group by week number and sum cases\n",
    "# weekly_cases = da.groupby('week_number')['ndate'].count().reset_index()\n",
    "\n",
    "# print(weekly_cases)"
   ]
  },
  {
   "cell_type": "markdown",
   "metadata": {},
   "source": [
    "หาผู้ป่วย รายอำเภอ"
   ]
  },
  {
   "cell_type": "code",
   "execution_count": null,
   "metadata": {},
   "outputs": [],
   "source": [
    "# Apply the function to get the week number\n",
    "df['week_number'] = df['DATESICK'].apply(calculate_week_number)\n",
    "\n",
    "# Group by week number and sum cases\n",
    "#weekly_cases = df.groupby('week_number','NADDRCODE')['DATESICK'].count().reset_index()\n",
    "case_on_week_by_district = df.groupby(['week_number', 'NADDRCODE']).size().reset_index(name='DATESICK')\n",
    "print(case_on_week_by_district)"
   ]
  },
  {
   "cell_type": "code",
   "execution_count": null,
   "metadata": {},
   "outputs": [],
   "source": [
    "def find_week_number(date):\n",
    "    \"\"\"\n",
    "    Calculate the week number of a given date, where week 1 starts on January 7.\n",
    "\n",
    "    Args:\n",
    "    date (datetime.date): The date to calculate the week number for.\n",
    "\n",
    "    Returns:\n",
    "    int: The week number of the date.\n",
    "    \"\"\"\n",
    "    # Define the starting date of week 1\n",
    "    start_date = datetime.date(date.year, 1, 7)\n",
    "    \n",
    "    # If the given date is before January 7 of the same year, adjust the start date to the previous year's January 7\n",
    "    if date < start_date:\n",
    "        start_date = datetime.date(date.year - 1, 1, 7)\n",
    "    \n",
    "    # Calculate the difference in days\n",
    "    days_diff = (date - start_date).days\n",
    "    \n",
    "    # Calculate the week number\n",
    "    week_number = (days_diff // 7) + 1\n",
    "    \n",
    "    return week_number\n",
    "\n",
    "def get_start_of_week(week_number, year):\n",
    "    \"\"\"\n",
    "    Calculate the start date of a given week number, where week 1 starts on January 7.\n",
    "\n",
    "    Args:\n",
    "    week_number (int): The week number.\n",
    "    year (int): The year.\n",
    "\n",
    "    Returns:\n",
    "    datetime.date: The start date of the week.\n",
    "    \"\"\"\n",
    "    start_date = datetime.date(year, 1, 7)\n",
    "    start_of_week = start_date + datetime.timedelta(weeks=week_number - 1)\n",
    "    return start_of_week\n",
    "\n",
    "def create_weeks_dataframe(start_date_str, end_date_str):\n",
    "    \"\"\"\n",
    "    Create a DataFrame with weeks starting from January 7, along with their start and end dates.\n",
    "\n",
    "    Args:\n",
    "    start_date_str (str): The start date string for the DataFrame in 'YYYY-MM-DD' format.\n",
    "    end_date_str (str): The end date string for the DataFrame in 'YYYY-MM-DD' format.\n",
    "\n",
    "    Returns:\n",
    "    pd.DataFrame: A DataFrame with week numbers and their start and end dates.\n",
    "    \"\"\"\n",
    "    start_date = datetime.datetime.strptime(start_date_str, '%Y-%m-%d').date()\n",
    "    end_date = datetime.datetime.strptime(end_date_str, '%Y-%m-%d').date()\n",
    "    \n",
    "    weeks = []\n",
    "    current_date = start_date\n",
    "    \n",
    "    while current_date <= end_date:\n",
    "        week_number = find_week_number(current_date)\n",
    "        start_of_week = get_start_of_week(week_number, current_date.year)\n",
    "        end_of_week = start_of_week + datetime.timedelta(days=6)\n",
    "        weeks.append({\n",
    "            'week_number': week_number,\n",
    "            'start_date': start_of_week,\n",
    "            'end_date': end_of_week\n",
    "        })\n",
    "        current_date = end_of_week + datetime.timedelta(days=1)\n",
    "    \n",
    "    weeks_df = pd.DataFrame(weeks).drop_duplicates(subset=['week_number'])\n",
    "    return weeks_df"
   ]
  },
  {
   "cell_type": "code",
   "execution_count": null,
   "metadata": {},
   "outputs": [],
   "source": [
    "# Example usage:\n",
    "start_date = '2024-01-07'\n",
    "end_date = '2025-01-04'\n",
    "weeks_df = create_weeks_dataframe(start_date, end_date)\n",
    "weeks_df"
   ]
  },
  {
   "cell_type": "code",
   "execution_count": null,
   "metadata": {},
   "outputs": [],
   "source": [
    "weeks_df"
   ]
  },
  {
   "cell_type": "code",
   "execution_count": null,
   "metadata": {},
   "outputs": [],
   "source": [
    "ndf = case_on_week_by_district.merge(weeks_df, on='week_number', how='left')\n",
    "ndf"
   ]
  },
  {
   "cell_type": "code",
   "execution_count": null,
   "metadata": {},
   "outputs": [],
   "source": [
    "new_df = pd.merge(case_on_week_by_district, weeks_df , on=['week_number'])\n",
    "new_df = new_df[['week_number','NADDRCODE', 'start_date', 'end_date', 'DATESICK']]\n",
    "new_df"
   ]
  },
  {
   "cell_type": "code",
   "execution_count": null,
   "metadata": {},
   "outputs": [],
   "source": [
    "new_df.rename(columns={'DATESICK': \"total_case\", 'NADDRCODE' : \"district_code\"}, inplace=True)\n",
    "new_df"
   ]
  },
  {
   "cell_type": "code",
   "execution_count": null,
   "metadata": {},
   "outputs": [],
   "source": [
    "sns.lineplot(data=new_df, x='week_number',y='total_case')"
   ]
  },
  {
   "cell_type": "code",
   "execution_count": null,
   "metadata": {},
   "outputs": [],
   "source": [
    "new_df.info()"
   ]
  },
  {
   "cell_type": "markdown",
   "metadata": {},
   "source": [
    "Insert data to db "
   ]
  },
  {
   "cell_type": "code",
   "execution_count": null,
   "metadata": {},
   "outputs": [],
   "source": [
    "DIALECT = \"mysql\"\n",
    "SQL_DRIVER = \"pymysql\"\n",
    "USERNAME = \"user\"\n",
    "PASSWORD = \"user\"\n",
    "HOST = \"localhost\"\n",
    "PORT = 6001\n",
    "DBNAME = \"r506\"\n",
    "\n",
    "conn_str = DIALECT + \"+\" + SQL_DRIVER + \"://\" + USERNAME + \":\" +quote(PASSWORD) + \"@\" + HOST + \":\" +str(PORT) + \"/\" + DBNAME"
   ]
  },
  {
   "cell_type": "code",
   "execution_count": null,
   "metadata": {},
   "outputs": [],
   "source": [
    "with sa.create_engine(conn_str).connect() as con:\n",
    "  new_df.to_sql(\"cases\",con,index=None, if_exists='replace')"
   ]
  }
 ],
 "metadata": {
  "kernelspec": {
   "display_name": ".venv",
   "language": "python",
   "name": "python3"
  },
  "language_info": {
   "codemirror_mode": {
    "name": "ipython",
    "version": 3
   },
   "file_extension": ".py",
   "mimetype": "text/x-python",
   "name": "python",
   "nbconvert_exporter": "python",
   "pygments_lexer": "ipython3",
   "version": "3.12.2"
  }
 },
 "nbformat": 4,
 "nbformat_minor": 2
}
